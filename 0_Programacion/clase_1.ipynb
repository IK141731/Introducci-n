{
  "cells": [
    {
      "cell_type": "markdown",
      "metadata": {
        "id": "view-in-github",
        "colab_type": "text"
      },
      "source": [
        "<a href=\"https://colab.research.google.com/github/IK141731/Introducci-n/blob/main/0_Programacion/clase_1.ipynb\" target=\"_parent\"><img src=\"https://colab.research.google.com/assets/colab-badge.svg\" alt=\"Open In Colab\"/></a>"
      ]
    },
    {
      "cell_type": "markdown",
      "metadata": {
        "id": "I4c0J82DFj5y"
      },
      "source": [
        "# <u>Introducción al Python</u>"
      ]
    },
    {
      "cell_type": "markdown",
      "metadata": {
        "id": "Y_Yif03pdLjP"
      },
      "source": [
        "## ¿Qué es Python?"
      ]
    },
    {
      "cell_type": "markdown",
      "metadata": {
        "id": "GQlcZXfXdLjP"
      },
      "source": [
        "Python es un lenguaje de programación interpretado, orientado a objetos, de alto nivel y con semántica dinámica creado por Guido van Rossum en 1991.\n",
        "\n",
        "A continuación haremos una breve introducción de los conceptos y operaciones básicas de Python."
      ]
    },
    {
      "cell_type": "markdown",
      "metadata": {
        "id": "Urm1qE0LdLjQ"
      },
      "source": [
        "## Celda de código"
      ]
    },
    {
      "cell_type": "code",
      "execution_count": null,
      "metadata": {
        "id": "mhP9DgpXETSE"
      },
      "outputs": [],
      "source": [
        "#Celda de código\n",
        "\n",
        "4 + 5"
      ]
    },
    {
      "cell_type": "markdown",
      "metadata": {
        "id": "cKKJMN37Ettq"
      },
      "source": [
        "Esto es un comentario dentro de una celda de texto\n",
        "# Título nivel 1\n",
        "## Título nivel 2\n",
        "### Título nivel 3\n",
        "#### Título nivel 4\n",
        "##### Título nivel 5"
      ]
    },
    {
      "cell_type": "code",
      "metadata": {
        "colab": {
          "base_uri": "https://localhost:8080/",
          "height": 106
        },
        "id": "EPOmZqR5FsF5",
        "outputId": "3aab5c5a-1688-42bd-9d7d-60cc1f982a32"
      },
      "source": [
        "*Este texto está en cursiva*\n",
        "<br>\n",
        "**Este texto está en negrita**\n",
        "<br>\n",
        "***Y este texto en negrita y cursiva***"
      ],
      "execution_count": null,
      "outputs": [
        {
          "output_type": "error",
          "ename": "SyntaxError",
          "evalue": "invalid syntax (<ipython-input-1-5c040e728f6c>, line 1)",
          "traceback": [
            "\u001b[0;36m  File \u001b[0;32m\"<ipython-input-1-5c040e728f6c>\"\u001b[0;36m, line \u001b[0;32m1\u001b[0m\n\u001b[0;31m    *Este texto está en cursiva*\u001b[0m\n\u001b[0m          ^\u001b[0m\n\u001b[0;31mSyntaxError\u001b[0m\u001b[0;31m:\u001b[0m invalid syntax\n"
          ]
        }
      ]
    },
    {
      "cell_type": "markdown",
      "metadata": {
        "id": "lagBzG7bdLjR"
      },
      "source": [
        "<center> <u><i><b>Texto centrado</b></i></u> </center>"
      ]
    },
    {
      "cell_type": "markdown",
      "metadata": {
        "id": "r7irdA2VdLjR"
      },
      "source": [
        "<i> Cursiva </i>"
      ]
    },
    {
      "cell_type": "markdown",
      "metadata": {
        "id": "3JgHmz_RLnUD"
      },
      "source": [
        "## Tipos de datos básicos"
      ]
    },
    {
      "cell_type": "code",
      "execution_count": null,
      "metadata": {
        "id": "1ye9Ei7hdLjS"
      },
      "outputs": [],
      "source": [
        "#Crear una variable\n",
        "x = 25"
      ]
    },
    {
      "cell_type": "code",
      "execution_count": null,
      "metadata": {
        "id": "j6UPZP_QdLjS",
        "outputId": "93e9ec93-3d16-48a1-8825-af4870458cd3",
        "colab": {
          "base_uri": "https://localhost:8080/"
        }
      },
      "outputs": [
        {
          "output_type": "execute_result",
          "data": {
            "text/plain": [
              "25"
            ]
          },
          "metadata": {},
          "execution_count": 3
        }
      ],
      "source": [
        "#Consultar el contenido de una variable\n",
        "x"
      ]
    },
    {
      "cell_type": "code",
      "execution_count": null,
      "metadata": {
        "id": "7OQ6J5kfdLjS"
      },
      "outputs": [],
      "source": [
        "# Asignación múltiple de variables\n",
        "x, y, z = 1,2,3"
      ]
    },
    {
      "cell_type": "code",
      "execution_count": null,
      "metadata": {
        "id": "VTEo1P4hdLjS",
        "outputId": "d3cc1160-7d91-44c1-c5fd-2b56df6fce29",
        "colab": {
          "base_uri": "https://localhost:8080/"
        }
      },
      "outputs": [
        {
          "output_type": "execute_result",
          "data": {
            "text/plain": [
              "1"
            ]
          },
          "metadata": {},
          "execution_count": 5
        }
      ],
      "source": [
        "x"
      ]
    },
    {
      "cell_type": "code",
      "execution_count": null,
      "metadata": {
        "id": "2kaYBKnjdLjS",
        "outputId": "292cabba-c5e2-443d-cae0-8d262800c93f",
        "colab": {
          "base_uri": "https://localhost:8080/"
        }
      },
      "outputs": [
        {
          "output_type": "execute_result",
          "data": {
            "text/plain": [
              "2"
            ]
          },
          "metadata": {},
          "execution_count": 6
        }
      ],
      "source": [
        "y"
      ]
    },
    {
      "cell_type": "code",
      "execution_count": null,
      "metadata": {
        "id": "elL_Mqg3dLjT",
        "outputId": "f3bfb87d-2746-4108-a4e9-f4e52bd864eb",
        "colab": {
          "base_uri": "https://localhost:8080/"
        }
      },
      "outputs": [
        {
          "output_type": "execute_result",
          "data": {
            "text/plain": [
              "(1, 2, 3)"
            ]
          },
          "metadata": {},
          "execution_count": 7
        }
      ],
      "source": [
        "x,y,z"
      ]
    },
    {
      "cell_type": "code",
      "execution_count": null,
      "metadata": {
        "id": "mf2JY7M5dLjT",
        "outputId": "ad70233e-f85a-4b74-8c86-9e8e7a79c9e2",
        "colab": {
          "base_uri": "https://localhost:8080/",
          "height": 106
        }
      },
      "outputs": [
        {
          "output_type": "error",
          "ename": "SyntaxError",
          "evalue": "cannot assign to True (<ipython-input-8-679355094e21>, line 1)",
          "traceback": [
            "\u001b[0;36m  File \u001b[0;32m\"<ipython-input-8-679355094e21>\"\u001b[0;36m, line \u001b[0;32m1\u001b[0m\n\u001b[0;31m    True = 3\u001b[0m\n\u001b[0m    ^\u001b[0m\n\u001b[0;31mSyntaxError\u001b[0m\u001b[0;31m:\u001b[0m cannot assign to True\n"
          ]
        }
      ],
      "source": [
        "True = 3"
      ]
    },
    {
      "cell_type": "markdown",
      "metadata": {
        "id": "S6Oug5j2dLjT"
      },
      "source": [
        "### Datos Numéricos"
      ]
    },
    {
      "cell_type": "code",
      "execution_count": null,
      "metadata": {
        "id": "VjvAebXALFUY"
      },
      "outputs": [],
      "source": [
        "a,b = 25,7"
      ]
    },
    {
      "cell_type": "code",
      "execution_count": null,
      "metadata": {
        "id": "JxRvbYCBLu_3"
      },
      "outputs": [],
      "source": [
        "a + b"
      ]
    },
    {
      "cell_type": "code",
      "execution_count": null,
      "metadata": {
        "id": "AEA8ZgiILx6Q"
      },
      "outputs": [],
      "source": [
        "a - b"
      ]
    },
    {
      "cell_type": "code",
      "execution_count": null,
      "metadata": {
        "id": "zqW3ooW6Lz7w"
      },
      "outputs": [],
      "source": [
        "a * b"
      ]
    },
    {
      "cell_type": "code",
      "execution_count": null,
      "metadata": {
        "id": "3OpOSiXFL1lv"
      },
      "outputs": [],
      "source": [
        "#División real\n",
        "a / b"
      ]
    },
    {
      "cell_type": "code",
      "execution_count": null,
      "metadata": {
        "id": "PBXTk-hcL5vG"
      },
      "outputs": [],
      "source": [
        "#División entera\n",
        "a // b"
      ]
    },
    {
      "cell_type": "code",
      "execution_count": null,
      "metadata": {
        "id": "bQKw57eLMPQs"
      },
      "outputs": [],
      "source": [
        "#Residuo (Operador módulo)\n",
        "a % b"
      ]
    },
    {
      "cell_type": "markdown",
      "metadata": {
        "id": "NGV5PVEmN3IR"
      },
      "source": [
        "Al tener diversas operaciones y consultas dentro de una misma celda de código, todas las operaciones son ejecutadas pero solo la última consulta será visible en el output."
      ]
    },
    {
      "cell_type": "code",
      "execution_count": null,
      "metadata": {
        "id": "wpitkfm1Maye"
      },
      "outputs": [],
      "source": [
        "c = a / b\n",
        "a, b, c"
      ]
    },
    {
      "cell_type": "code",
      "execution_count": null,
      "metadata": {
        "id": "Bl_FgPvqM6kK"
      },
      "outputs": [],
      "source": [
        "#Consultar el tipo de dato de una variable\n",
        "type(a), type(b), type(c)"
      ]
    },
    {
      "cell_type": "code",
      "execution_count": null,
      "metadata": {
        "id": "8IDFB0rPSJZR",
        "scrolled": true
      },
      "outputs": [],
      "source": [
        "c"
      ]
    },
    {
      "cell_type": "code",
      "execution_count": null,
      "metadata": {
        "id": "kRUqQF-mStpF"
      },
      "outputs": [],
      "source": [
        "#Función útil de redondeo, no requiere importar ningún paquete o módulo adicional\n",
        "\n",
        "round(c, 2)"
      ]
    },
    {
      "cell_type": "code",
      "execution_count": null,
      "metadata": {
        "id": "wOAZvXk5NZ_d"
      },
      "outputs": [],
      "source": [
        "#Operador exponencial\n",
        "24 ** 7"
      ]
    },
    {
      "cell_type": "code",
      "execution_count": null,
      "metadata": {
        "id": "tp71DFIYNt-k"
      },
      "outputs": [],
      "source": [
        "#Números muy grandes son soportados en Python\n",
        "5424157445487845 ** 100"
      ]
    },
    {
      "cell_type": "code",
      "execution_count": null,
      "metadata": {
        "id": "Xq_rFyOhNyEH"
      },
      "outputs": [],
      "source": [
        "#Calculando una raiz como la inversa de la exponencial\n",
        "36 ** (1/5)"
      ]
    },
    {
      "cell_type": "code",
      "execution_count": null,
      "metadata": {
        "id": "ovIZcxAwdLjU"
      },
      "outputs": [],
      "source": [
        "pow(10,2)"
      ]
    },
    {
      "cell_type": "code",
      "execution_count": null,
      "metadata": {
        "id": "-ix4Vj-GdLjU"
      },
      "outputs": [],
      "source": [
        "pow(36,1/5)"
      ]
    },
    {
      "cell_type": "code",
      "execution_count": null,
      "metadata": {
        "id": "hCnN4nHBdLjV",
        "outputId": "1a58d7cb-8ad2-4bc3-c99e-e79746f1451a",
        "colab": {
          "base_uri": "https://localhost:8080/"
        }
      },
      "outputs": [
        {
          "output_type": "execute_result",
          "data": {
            "text/plain": [
              "11.0"
            ]
          },
          "metadata": {},
          "execution_count": 9
        }
      ],
      "source": [
        "7-6+2**3/4*5"
      ]
    },
    {
      "cell_type": "code",
      "execution_count": null,
      "metadata": {
        "id": "t9XkJMROdLjV",
        "outputId": "c7c7977a-19d2-414c-d6f7-87912b4c6cff",
        "colab": {
          "base_uri": "https://localhost:8080/"
        }
      },
      "outputs": [
        {
          "output_type": "execute_result",
          "data": {
            "text/plain": [
              "3"
            ]
          },
          "metadata": {},
          "execution_count": 10
        }
      ],
      "source": [
        "25//8"
      ]
    },
    {
      "cell_type": "code",
      "execution_count": null,
      "metadata": {
        "id": "-OSNBE6edLjV",
        "outputId": "15cc10b3-9ee4-426b-ed03-4a776657f4eb",
        "colab": {
          "base_uri": "https://localhost:8080/"
        }
      },
      "outputs": [
        {
          "output_type": "execute_result",
          "data": {
            "text/plain": [
              "1"
            ]
          },
          "metadata": {},
          "execution_count": 11
        }
      ],
      "source": [
        "int(1)"
      ]
    },
    {
      "cell_type": "code",
      "execution_count": null,
      "metadata": {
        "id": "9UzhgqKGdLjV",
        "outputId": "a8a432ae-5f25-4043-c28a-5ef534b3db8b",
        "colab": {
          "base_uri": "https://localhost:8080/"
        }
      },
      "outputs": [
        {
          "output_type": "stream",
          "name": "stdout",
          "text": [
            "24.0 <class 'float'>\n"
          ]
        }
      ],
      "source": [
        "# Declarar un variable con un valor del tipo punto flotante\n",
        "\n",
        "x = 24.0\n",
        "print(x, type(x))"
      ]
    },
    {
      "cell_type": "code",
      "execution_count": null,
      "metadata": {
        "id": "Idq0H94adLjV",
        "outputId": "f4307867-29fa-43ad-85ca-5c5ed8633bb4",
        "colab": {
          "base_uri": "https://localhost:8080/"
        }
      },
      "outputs": [
        {
          "output_type": "stream",
          "name": "stdout",
          "text": [
            "24.0 <class 'float'>\n"
          ]
        }
      ],
      "source": [
        "# Declarar una variable con un valor numérico usando la función float\n",
        "\n",
        "x = float(24)\n",
        "print(x, type(x))"
      ]
    },
    {
      "cell_type": "code",
      "execution_count": null,
      "metadata": {
        "id": "vxZdlMl3dLjV",
        "outputId": "78e4bb9a-f82d-42d3-aa5f-3576ccee2554",
        "colab": {
          "base_uri": "https://localhost:8080/"
        }
      },
      "outputs": [
        {
          "output_type": "stream",
          "name": "stdout",
          "text": [
            "(24+20j) <class 'complex'>\n"
          ]
        }
      ],
      "source": [
        "# Declarar un variable con un valor del tipo complejo\n",
        "\n",
        "var = 24 + 20j\n",
        "print(var, type(var))"
      ]
    },
    {
      "cell_type": "code",
      "execution_count": null,
      "metadata": {
        "id": "lhk0oEpadLjW",
        "outputId": "da14c3cc-59dc-41cd-dfe9-f215b1e7aa24",
        "colab": {
          "base_uri": "https://localhost:8080/"
        }
      },
      "outputs": [
        {
          "output_type": "stream",
          "name": "stdout",
          "text": [
            "(24+20j) <class 'complex'>\n"
          ]
        }
      ],
      "source": [
        "# Declarar una variable con un un para de valores numéricos usando la función complex\n",
        "\n",
        "var = complex(24, 20)\n",
        "print(var, type(var))"
      ]
    },
    {
      "cell_type": "code",
      "execution_count": null,
      "metadata": {
        "id": "EOXeOyBmdLjW",
        "outputId": "582dbcb8-787a-4b7d-e178-6356358dad7e",
        "colab": {
          "base_uri": "https://localhost:8080/"
        }
      },
      "outputs": [
        {
          "output_type": "stream",
          "name": "stdout",
          "text": [
            "24.0\n",
            "20.0\n"
          ]
        }
      ],
      "source": [
        "print(var.real)\n",
        "print(var.imag)"
      ]
    },
    {
      "cell_type": "code",
      "execution_count": null,
      "metadata": {
        "id": "rJ0QmEmNdLjW",
        "outputId": "30c5c52d-e6ce-479b-97b0-a920a053f2be",
        "colab": {
          "base_uri": "https://localhost:8080/"
        }
      },
      "outputs": [
        {
          "output_type": "execute_result",
          "data": {
            "text/plain": [
              "(6.123233995736766e-17+1j)"
            ]
          },
          "metadata": {},
          "execution_count": 17
        }
      ],
      "source": [
        "pow(-1,1/2)"
      ]
    },
    {
      "cell_type": "markdown",
      "metadata": {
        "id": "rXSPSXpmJnuq"
      },
      "source": [
        "### Datos Booleanos"
      ]
    },
    {
      "cell_type": "code",
      "execution_count": null,
      "metadata": {
        "id": "m9Uwyn6CInVR"
      },
      "outputs": [],
      "source": [
        "b1 = True\n",
        "b2 = True\n",
        "b3 = False"
      ]
    },
    {
      "cell_type": "code",
      "execution_count": null,
      "metadata": {
        "colab": {
          "base_uri": "https://localhost:8080/"
        },
        "id": "4I47hQuJJ0xD",
        "outputId": "2ecccd02-d621-4a91-83b8-46be70915b8e"
      },
      "outputs": [
        {
          "output_type": "execute_result",
          "data": {
            "text/plain": [
              "True"
            ]
          },
          "metadata": {},
          "execution_count": 19
        }
      ],
      "source": [
        "b1"
      ]
    },
    {
      "cell_type": "code",
      "execution_count": null,
      "metadata": {
        "colab": {
          "base_uri": "https://localhost:8080/"
        },
        "id": "0k_GdFilJ8DA",
        "outputId": "dc8643a6-4503-4640-ebc4-f5d3e68429ad"
      },
      "outputs": [
        {
          "output_type": "execute_result",
          "data": {
            "text/plain": [
              "False"
            ]
          },
          "metadata": {},
          "execution_count": 20
        }
      ],
      "source": [
        "#Negación\n",
        "not b1"
      ]
    },
    {
      "cell_type": "code",
      "execution_count": null,
      "metadata": {
        "id": "lojn2qMsdLjW",
        "outputId": "2dc73f47-4578-42e5-97ab-9feaa70382c6",
        "colab": {
          "base_uri": "https://localhost:8080/"
        }
      },
      "outputs": [
        {
          "output_type": "execute_result",
          "data": {
            "text/plain": [
              "False"
            ]
          },
          "metadata": {},
          "execution_count": 21
        }
      ],
      "source": [
        "3 == 5   #igualdad"
      ]
    },
    {
      "cell_type": "code",
      "execution_count": null,
      "metadata": {
        "id": "rVRMF_fqdLjW",
        "outputId": "51044680-d6db-4bca-a95e-1d11bbab019a",
        "colab": {
          "base_uri": "https://localhost:8080/"
        }
      },
      "outputs": [
        {
          "output_type": "execute_result",
          "data": {
            "text/plain": [
              "True"
            ]
          },
          "metadata": {},
          "execution_count": 22
        }
      ],
      "source": [
        "5 > 3"
      ]
    },
    {
      "cell_type": "code",
      "execution_count": null,
      "metadata": {
        "colab": {
          "base_uri": "https://localhost:8080/"
        },
        "id": "mnltgIYnJ_BP",
        "outputId": "399cb0af-b88c-4bd7-d091-6aad43bae1a5"
      },
      "outputs": [
        {
          "output_type": "execute_result",
          "data": {
            "text/plain": [
              "False"
            ]
          },
          "metadata": {},
          "execution_count": 23
        }
      ],
      "source": [
        "#Operador and: si ambas condiciones son verdaderas, todo es verdadero, cc es falso\n",
        "b1 and b3"
      ]
    },
    {
      "cell_type": "code",
      "execution_count": null,
      "metadata": {
        "id": "63rHEPaTdLjW",
        "outputId": "b45a1388-1bb5-4841-e553-b964e29687b8",
        "colab": {
          "base_uri": "https://localhost:8080/"
        }
      },
      "outputs": [
        {
          "output_type": "execute_result",
          "data": {
            "text/plain": [
              "True"
            ]
          },
          "metadata": {},
          "execution_count": 24
        }
      ],
      "source": [
        "b1 and b2"
      ]
    },
    {
      "cell_type": "code",
      "execution_count": null,
      "metadata": {
        "colab": {
          "base_uri": "https://localhost:8080/"
        },
        "id": "nJj333fnK8zc",
        "outputId": "a063e13a-8be7-4a7c-9db8-72a5bff542dc"
      },
      "outputs": [
        {
          "output_type": "execute_result",
          "data": {
            "text/plain": [
              "True"
            ]
          },
          "metadata": {},
          "execution_count": 25
        }
      ],
      "source": [
        "#Operador or: si ambas condiciones son falsas, todo es falso, cc es verdadero\n",
        "b2 or b3"
      ]
    },
    {
      "cell_type": "code",
      "execution_count": null,
      "metadata": {
        "id": "fI9ztlncdLjX",
        "outputId": "d8b84273-b2eb-4a06-f34b-b9b55bffd6ca",
        "colab": {
          "base_uri": "https://localhost:8080/"
        }
      },
      "outputs": [
        {
          "output_type": "execute_result",
          "data": {
            "text/plain": [
              "False"
            ]
          },
          "metadata": {},
          "execution_count": 26
        }
      ],
      "source": [
        "not b2 or b3"
      ]
    },
    {
      "cell_type": "code",
      "execution_count": null,
      "metadata": {
        "colab": {
          "base_uri": "https://localhost:8080/"
        },
        "id": "x7EOaAwzK_mB",
        "outputId": "5dc67543-3183-4408-8861-7eadc3b488cb"
      },
      "outputs": [
        {
          "output_type": "execute_result",
          "data": {
            "text/plain": [
              "True"
            ]
          },
          "metadata": {},
          "execution_count": 27
        }
      ],
      "source": [
        "#Operador xor: disyuncion exclusiva - si ambas condiciones son iguales es falso\n",
        "b1 ^ b3"
      ]
    },
    {
      "cell_type": "markdown",
      "metadata": {
        "id": "l8QlYke5dLjX"
      },
      "source": [
        "#### Operadores relacionales"
      ]
    },
    {
      "cell_type": "code",
      "execution_count": null,
      "metadata": {
        "id": "eOzuQwrBdLjX",
        "outputId": "75917954-6ee9-4a6a-fe0d-5b3b3a1d1323",
        "colab": {
          "base_uri": "https://localhost:8080/"
        }
      },
      "outputs": [
        {
          "output_type": "execute_result",
          "data": {
            "text/plain": [
              "False"
            ]
          },
          "metadata": {},
          "execution_count": 28
        }
      ],
      "source": [
        "3 == 4  # Igual que"
      ]
    },
    {
      "cell_type": "code",
      "execution_count": null,
      "metadata": {
        "id": "X9mwbzczdLjX",
        "outputId": "a5cc47f5-9abb-456b-f6bb-b93770cdb673",
        "colab": {
          "base_uri": "https://localhost:8080/"
        }
      },
      "outputs": [
        {
          "output_type": "execute_result",
          "data": {
            "text/plain": [
              "True"
            ]
          },
          "metadata": {},
          "execution_count": 29
        }
      ],
      "source": [
        "3 != 4  # Distinto que"
      ]
    },
    {
      "cell_type": "code",
      "execution_count": null,
      "metadata": {
        "id": "XKG7kmAWdLjX",
        "outputId": "0dc2a3b1-1617-4bc4-b9eb-a98caa7be2ae",
        "colab": {
          "base_uri": "https://localhost:8080/"
        }
      },
      "outputs": [
        {
          "output_type": "execute_result",
          "data": {
            "text/plain": [
              "True"
            ]
          },
          "metadata": {},
          "execution_count": 30
        }
      ],
      "source": [
        "8 < 12  # Menor que"
      ]
    },
    {
      "cell_type": "code",
      "execution_count": null,
      "metadata": {
        "id": "cDUS_ix0dLjX",
        "outputId": "372555e0-de1f-4401-e095-860d282d5595",
        "colab": {
          "base_uri": "https://localhost:8080/"
        }
      },
      "outputs": [
        {
          "output_type": "execute_result",
          "data": {
            "text/plain": [
              "True"
            ]
          },
          "metadata": {},
          "execution_count": 31
        }
      ],
      "source": [
        "12 > 7  # Mayor que"
      ]
    },
    {
      "cell_type": "code",
      "execution_count": null,
      "metadata": {
        "id": "R3g1xDWzdLjX",
        "outputId": "85fa7d89-ce29-4d50-8eb4-7d9ab2081834",
        "colab": {
          "base_uri": "https://localhost:8080/"
        }
      },
      "outputs": [
        {
          "output_type": "execute_result",
          "data": {
            "text/plain": [
              "True"
            ]
          },
          "metadata": {},
          "execution_count": 32
        }
      ],
      "source": [
        "12 <= 12  # Menor o igual que"
      ]
    },
    {
      "cell_type": "code",
      "execution_count": null,
      "metadata": {
        "id": "sQ413ajSdLjY",
        "outputId": "16b0fa33-1566-408f-a761-d618c8007374",
        "colab": {
          "base_uri": "https://localhost:8080/"
        }
      },
      "outputs": [
        {
          "output_type": "execute_result",
          "data": {
            "text/plain": [
              "False"
            ]
          },
          "metadata": {},
          "execution_count": 33
        }
      ],
      "source": [
        "4 >= 5  # Mayor o igual que"
      ]
    },
    {
      "cell_type": "markdown",
      "metadata": {
        "id": "YoA2tnMHdLjY"
      },
      "source": [
        "#### Operadores lógicos"
      ]
    },
    {
      "cell_type": "code",
      "execution_count": null,
      "metadata": {
        "id": "dBLbEQJNdLjY",
        "outputId": "e7eee8a8-5a5a-46cf-e3e0-5888c5566b43",
        "colab": {
          "base_uri": "https://localhost:8080/"
        }
      },
      "outputs": [
        {
          "output_type": "execute_result",
          "data": {
            "text/plain": [
              "False"
            ]
          },
          "metadata": {},
          "execution_count": 34
        }
      ],
      "source": [
        "5 == 7 and 7 < 12  #False and True"
      ]
    },
    {
      "cell_type": "code",
      "execution_count": null,
      "metadata": {
        "id": "gFbevV1kdLjY",
        "outputId": "561f1383-5594-4d12-8dfb-1eb3e8ed8a4a",
        "colab": {
          "base_uri": "https://localhost:8080/"
        }
      },
      "outputs": [
        {
          "output_type": "execute_result",
          "data": {
            "text/plain": [
              "True"
            ]
          },
          "metadata": {},
          "execution_count": 35
        }
      ],
      "source": [
        "9 < 12 and 12 > 7  # True and True"
      ]
    },
    {
      "cell_type": "code",
      "execution_count": null,
      "metadata": {
        "id": "HBSlj4X8dLjY",
        "outputId": "9f5c92ca-b83c-41d4-c945-f79c3cc320d5",
        "colab": {
          "base_uri": "https://localhost:8080/"
        }
      },
      "outputs": [
        {
          "output_type": "execute_result",
          "data": {
            "text/plain": [
              "False"
            ]
          },
          "metadata": {},
          "execution_count": 36
        }
      ],
      "source": [
        "9 < 12 and 12 > 15  # True and False"
      ]
    },
    {
      "cell_type": "code",
      "execution_count": null,
      "metadata": {
        "id": "f438X5BydLjY",
        "outputId": "742212b3-2fce-4dc0-aa1b-421465fe888d",
        "colab": {
          "base_uri": "https://localhost:8080/"
        }
      },
      "outputs": [
        {
          "output_type": "execute_result",
          "data": {
            "text/plain": [
              "True"
            ]
          },
          "metadata": {},
          "execution_count": 37
        }
      ],
      "source": [
        "12 == 12 or 15 < 7  # True or False"
      ]
    },
    {
      "cell_type": "code",
      "execution_count": null,
      "metadata": {
        "id": "9M_NAgdFdLjY",
        "outputId": "cb15b22f-0e4d-45aa-ffe2-c8bd6350249c",
        "colab": {
          "base_uri": "https://localhost:8080/"
        }
      },
      "outputs": [
        {
          "output_type": "execute_result",
          "data": {
            "text/plain": [
              "True"
            ]
          },
          "metadata": {},
          "execution_count": 38
        }
      ],
      "source": [
        "7 > 5 or 9 < 12  # True or True"
      ]
    },
    {
      "cell_type": "code",
      "execution_count": null,
      "metadata": {
        "scrolled": true,
        "id": "1cUo8l0MdLjY",
        "outputId": "70359e61-3f3d-4ed8-bfbc-686459489c33",
        "colab": {
          "base_uri": "https://localhost:8080/"
        }
      },
      "outputs": [
        {
          "output_type": "execute_result",
          "data": {
            "text/plain": [
              "False"
            ]
          },
          "metadata": {},
          "execution_count": 39
        }
      ],
      "source": [
        "12 == 13 or 15 < 7  # False or False"
      ]
    },
    {
      "cell_type": "markdown",
      "metadata": {
        "id": "BxajKbE3dLjY"
      },
      "source": [
        "### Datos String"
      ]
    },
    {
      "cell_type": "code",
      "execution_count": null,
      "metadata": {
        "id": "GZYgxhARdLjY",
        "outputId": "5890296d-0c41-46e7-8b3f-905442848bd0",
        "colab": {
          "base_uri": "https://localhost:8080/",
          "height": 35
        }
      },
      "outputs": [
        {
          "output_type": "execute_result",
          "data": {
            "text/plain": [
              "'Hola Data Science - DMC'"
            ],
            "application/vnd.google.colaboratory.intrinsic+json": {
              "type": "string"
            }
          },
          "metadata": {},
          "execution_count": 40
        }
      ],
      "source": [
        "'Hola Data Science - DMC'"
      ]
    },
    {
      "cell_type": "code",
      "execution_count": null,
      "metadata": {
        "id": "lIqVpYb_dLjY",
        "outputId": "2e3c3814-8421-4093-bf28-185a20e515e2",
        "colab": {
          "base_uri": "https://localhost:8080/",
          "height": 35
        }
      },
      "outputs": [
        {
          "output_type": "execute_result",
          "data": {
            "text/plain": [
              "'Hola Data Science - DMC'"
            ],
            "application/vnd.google.colaboratory.intrinsic+json": {
              "type": "string"
            }
          },
          "metadata": {},
          "execution_count": 41
        }
      ],
      "source": [
        "\"Hola Data Science - DMC\""
      ]
    },
    {
      "cell_type": "code",
      "execution_count": null,
      "metadata": {
        "id": "WXXYwzvvdLjY",
        "outputId": "fc5cf9cd-7d1b-4c04-c09f-047900b120f1",
        "colab": {
          "base_uri": "https://localhost:8080/",
          "height": 35
        }
      },
      "outputs": [
        {
          "output_type": "execute_result",
          "data": {
            "text/plain": [
              "'Este texto incluye unas  '"
            ],
            "application/vnd.google.colaboratory.intrinsic+json": {
              "type": "string"
            }
          },
          "metadata": {},
          "execution_count": 42
        }
      ],
      "source": [
        "'Este texto incluye unas ' ' '"
      ]
    },
    {
      "cell_type": "code",
      "execution_count": null,
      "metadata": {
        "id": "WtLmHImSdLjY",
        "outputId": "4ef71d63-be7d-4cfa-a804-5695eaa09494",
        "colab": {
          "base_uri": "https://localhost:8080/",
          "height": 35
        }
      },
      "outputs": [
        {
          "output_type": "execute_result",
          "data": {
            "text/plain": [
              "'Este texto incluye unas \" \" '"
            ],
            "application/vnd.google.colaboratory.intrinsic+json": {
              "type": "string"
            }
          },
          "metadata": {},
          "execution_count": 43
        }
      ],
      "source": [
        "'Este texto incluye unas \" \" '"
      ]
    },
    {
      "cell_type": "code",
      "execution_count": null,
      "metadata": {
        "id": "vD_wJHuvdLjY",
        "outputId": "58707d39-d864-4fdb-df0c-2831b31812f8",
        "colab": {
          "base_uri": "https://localhost:8080/",
          "height": 35
        }
      },
      "outputs": [
        {
          "output_type": "execute_result",
          "data": {
            "text/plain": [
              "\"Esta 'palabra' se encuentra escrita entre comillas simples\""
            ],
            "application/vnd.google.colaboratory.intrinsic+json": {
              "type": "string"
            }
          },
          "metadata": {},
          "execution_count": 44
        }
      ],
      "source": [
        "\"Esta 'palabra' se encuentra escrita entre comillas simples\""
      ]
    },
    {
      "cell_type": "code",
      "execution_count": null,
      "metadata": {
        "id": "H3j1VotEdLjZ",
        "outputId": "a1d8951a-3a10-4385-c24e-b1d8ff93d426",
        "colab": {
          "base_uri": "https://localhost:8080/",
          "height": 35
        }
      },
      "outputs": [
        {
          "output_type": "execute_result",
          "data": {
            "text/plain": [
              "'Esta \"palabra\" se encuentra escrita entre comillas dobles'"
            ],
            "application/vnd.google.colaboratory.intrinsic+json": {
              "type": "string"
            }
          },
          "metadata": {},
          "execution_count": 45
        }
      ],
      "source": [
        "# \\ es conocido el operador skip: permite volver literal un operador\n",
        "\"Esta \\\"palabra\\\" se encuentra escrita entre comillas dobles\""
      ]
    },
    {
      "cell_type": "code",
      "execution_count": null,
      "metadata": {
        "id": "vAySfzBXdLjZ",
        "outputId": "f0f6942e-a37e-499a-efc7-1469f6969b2f",
        "colab": {
          "base_uri": "https://localhost:8080/",
          "height": 35
        }
      },
      "outputs": [
        {
          "output_type": "execute_result",
          "data": {
            "text/plain": [
              "\"Esta 'palabra' se encuentra escrita entre comillas simples\""
            ],
            "application/vnd.google.colaboratory.intrinsic+json": {
              "type": "string"
            }
          },
          "metadata": {},
          "execution_count": 46
        }
      ],
      "source": [
        "'Esta \\'palabra\\' se encuentra escrita entre comillas simples'"
      ]
    },
    {
      "cell_type": "code",
      "execution_count": null,
      "metadata": {
        "id": "Rz_cQEi1PSQw"
      },
      "outputs": [],
      "source": [
        "s1 = 'Hola, soy un string.'\n",
        "s2 = \"Yo también\""
      ]
    },
    {
      "cell_type": "code",
      "execution_count": null,
      "metadata": {
        "id": "3KDkGJufdLjZ",
        "outputId": "0399aac9-8e09-4907-cbd9-acb3740c359a",
        "colab": {
          "base_uri": "https://localhost:8080/",
          "height": 35
        }
      },
      "outputs": [
        {
          "output_type": "execute_result",
          "data": {
            "text/plain": [
              "'Hola, soy un string.'"
            ],
            "application/vnd.google.colaboratory.intrinsic+json": {
              "type": "string"
            }
          },
          "metadata": {},
          "execution_count": 48
        }
      ],
      "source": [
        "s1"
      ]
    },
    {
      "cell_type": "code",
      "execution_count": null,
      "metadata": {
        "colab": {
          "base_uri": "https://localhost:8080/"
        },
        "id": "5mIvqhi0P1xd",
        "outputId": "349b7d7d-be86-4e59-a27b-5299f89991eb",
        "scrolled": true
      },
      "outputs": [
        {
          "output_type": "execute_result",
          "data": {
            "text/plain": [
              "str"
            ]
          },
          "metadata": {},
          "execution_count": 49
        }
      ],
      "source": [
        "type(s2)"
      ]
    },
    {
      "cell_type": "markdown",
      "metadata": {
        "id": "S0Xuw1NVRbu8"
      },
      "source": [
        "## Casting de datos\n",
        "\n",
        "Es la operación de cambio de tipo de dato entre variables:\n",
        "- De int a float\n",
        "- De int a str\n",
        "- De float a str\n",
        "- Viceversa\n",
        "\n",
        "Tener en cuenta que un str se puede convertir a número (int o float) siempre que no tenga otros caracteres, es decir, solo puede estar compuesto por dígitos.\n"
      ]
    },
    {
      "cell_type": "code",
      "execution_count": null,
      "metadata": {
        "colab": {
          "base_uri": "https://localhost:8080/",
          "height": 141
        },
        "id": "r9D-S2JdREhm",
        "outputId": "7176db4e-bf1f-42aa-d575-1fcab38f3a56"
      },
      "outputs": [
        {
          "output_type": "error",
          "ename": "NameError",
          "evalue": "name 'a' is not defined",
          "traceback": [
            "\u001b[0;31m---------------------------------------------------------------------------\u001b[0m",
            "\u001b[0;31mNameError\u001b[0m                                 Traceback (most recent call last)",
            "\u001b[0;32m<ipython-input-50-3f786850e387>\u001b[0m in \u001b[0;36m<cell line: 1>\u001b[0;34m()\u001b[0m\n\u001b[0;32m----> 1\u001b[0;31m \u001b[0ma\u001b[0m\u001b[0;34m\u001b[0m\u001b[0;34m\u001b[0m\u001b[0m\n\u001b[0m",
            "\u001b[0;31mNameError\u001b[0m: name 'a' is not defined"
          ]
        }
      ],
      "source": [
        "a"
      ]
    },
    {
      "cell_type": "code",
      "execution_count": null,
      "metadata": {
        "id": "G_9yzswYRkZE"
      },
      "outputs": [],
      "source": [
        "#De int a float\n",
        "\n",
        "float(a)"
      ]
    },
    {
      "cell_type": "code",
      "execution_count": null,
      "metadata": {
        "id": "9laWXi3bdLjZ"
      },
      "outputs": [],
      "source": [
        "a = float(a)"
      ]
    },
    {
      "cell_type": "code",
      "execution_count": null,
      "metadata": {
        "id": "yAJnebW0dLjZ"
      },
      "outputs": [],
      "source": [
        "type(a)"
      ]
    },
    {
      "cell_type": "code",
      "execution_count": null,
      "metadata": {
        "id": "muxv3KUDdLjZ"
      },
      "outputs": [],
      "source": [
        "a = int(a)"
      ]
    },
    {
      "cell_type": "code",
      "execution_count": null,
      "metadata": {
        "id": "W7ElGbLjdLjZ"
      },
      "outputs": [],
      "source": [
        "type(a)"
      ]
    },
    {
      "cell_type": "code",
      "execution_count": null,
      "metadata": {
        "id": "Jcp9DXroRtXk"
      },
      "outputs": [],
      "source": [
        "#De int a str\n",
        "\n",
        "str(a)"
      ]
    },
    {
      "cell_type": "code",
      "execution_count": null,
      "metadata": {
        "id": "6PA9hicfRxQY"
      },
      "outputs": [],
      "source": [
        "s1 = \"Hola\""
      ]
    },
    {
      "cell_type": "code",
      "execution_count": null,
      "metadata": {
        "id": "unNVJh8lR3LT"
      },
      "outputs": [],
      "source": [
        "#Error, no se puede convertir a int\n",
        "\n",
        "int(s1)"
      ]
    },
    {
      "cell_type": "code",
      "execution_count": null,
      "metadata": {
        "id": "7K9SqXaPR5Fe"
      },
      "outputs": [],
      "source": [
        "#Solicitamos la edad y convertimos a int, puesto que la función input() siempre devuelve un str\n",
        "\n",
        "edad = int(input(\"Ingrese la edad: \"))"
      ]
    },
    {
      "cell_type": "code",
      "execution_count": null,
      "metadata": {
        "id": "_DvnAxhpdLja"
      },
      "outputs": [],
      "source": [
        "edad"
      ]
    },
    {
      "cell_type": "code",
      "execution_count": null,
      "metadata": {
        "id": "hHkoFAmZdLja"
      },
      "outputs": [],
      "source": [
        "type(edad)"
      ]
    },
    {
      "cell_type": "code",
      "execution_count": null,
      "metadata": {
        "id": "4eMrsQX_SDcP"
      },
      "outputs": [],
      "source": [
        "edad + 5"
      ]
    },
    {
      "cell_type": "markdown",
      "metadata": {
        "id": "9xFe84egdLja"
      },
      "source": [
        "Calcular el producto de 444...444 (150 dígitos) por 777...777 (300 dígitos). Sin escribir el número completo."
      ]
    },
    {
      "cell_type": "code",
      "execution_count": null,
      "metadata": {
        "id": "jwrzjuuvdLja"
      },
      "outputs": [],
      "source": [
        "int('4' * 150) * int('7' * 300)"
      ]
    },
    {
      "cell_type": "markdown",
      "metadata": {
        "id": "N_Vtz6EgdLja"
      },
      "source": [
        "1. Se replica el string '4' 150 veces.\n",
        "2. Se convierte ese string de 150 caracteres a un entero con la operación de cast.\n",
        "3. Se realiza el mismo proceso con el string '7'.\n",
        "4. Se realiza el cálculo de la multiplicación sin problemas, ambos son enteros."
      ]
    },
    {
      "cell_type": "markdown",
      "metadata": {
        "id": "e6HgLYbydLja"
      },
      "source": [
        "## Ingreso y Salida de datos"
      ]
    },
    {
      "cell_type": "markdown",
      "metadata": {
        "id": "2NzMpZQfdLja"
      },
      "source": [
        "### Salida de datos: print\n",
        "\n",
        "Es una instrucción que nos permite mostrar correctamente el valor de una cadena (u otros valores/variables) por pantalla."
      ]
    },
    {
      "cell_type": "code",
      "execution_count": null,
      "metadata": {
        "id": "a-XD_wzNdLja"
      },
      "outputs": [],
      "source": [
        "\"Visual .Net\"\n",
        "'Java'\n",
        "'Pyhton'"
      ]
    },
    {
      "cell_type": "code",
      "execution_count": null,
      "metadata": {
        "id": "qqAsQ-sGdLja"
      },
      "outputs": [],
      "source": [
        "print(\"Visual .Net\")\n",
        "print('Java')\n",
        "print('Python')"
      ]
    },
    {
      "cell_type": "code",
      "execution_count": null,
      "metadata": {
        "id": "P4l-WbKvdLja"
      },
      "outputs": [],
      "source": [
        "x = 18"
      ]
    },
    {
      "cell_type": "code",
      "execution_count": null,
      "metadata": {
        "id": "ECaHBI3ZHN5A"
      },
      "outputs": [],
      "source": [
        "#Mostrar en pantalla: 2 formas\n",
        "\n",
        "print(\"La variable x vale\", x)\n",
        "print(f\"La variable x vale {x}\")"
      ]
    },
    {
      "cell_type": "code",
      "execution_count": null,
      "metadata": {
        "id": "f25KmPVHdLjb"
      },
      "outputs": [],
      "source": [
        "print('Hola','como','estas')"
      ]
    },
    {
      "cell_type": "code",
      "execution_count": null,
      "metadata": {
        "id": "q2I813sIdLjb"
      },
      "outputs": [],
      "source": [
        "print(\"Hola\")\n",
        "print(\"Hola\",\"Mundo\")\n",
        "print(\"Hola\",\"Mundo\", sep=\"***\")\n",
        "print(\"Hola\",\"Mundo\", end=\"***\")"
      ]
    },
    {
      "cell_type": "code",
      "execution_count": null,
      "metadata": {
        "id": "lgh3Ke3SdLjb"
      },
      "outputs": [],
      "source": [
        "Nombre = \"Luis\"\n",
        "edad = 30\n",
        "print(Nombre, \"tiene\", edad, \"años de edad.\")"
      ]
    },
    {
      "cell_type": "code",
      "execution_count": null,
      "metadata": {
        "id": "R0Oa4AtRdLjb"
      },
      "outputs": [],
      "source": [
        "print(\"000\",\"Hola\", sep = '')"
      ]
    },
    {
      "cell_type": "code",
      "execution_count": null,
      "metadata": {
        "id": "HVP2ViqSdLjb"
      },
      "outputs": [],
      "source": [
        "# usando operadores de formato\n",
        "print(\"%s tiene %d años de edad.\" %(Nombre, edad))\n",
        "\n",
        "# d, i   Entero\n",
        "# f      Punto flotante como m.ddddd\n",
        "# s      cadena o string"
      ]
    },
    {
      "cell_type": "code",
      "execution_count": null,
      "metadata": {
        "id": "HYnuB2OvdLjb"
      },
      "outputs": [],
      "source": [
        "print(\"%s es un alumno de %s que saco de nota %d.\" %('Lucas','IFB',16))"
      ]
    },
    {
      "cell_type": "code",
      "execution_count": null,
      "metadata": {
        "id": "XZ0LZNETdLjb"
      },
      "outputs": [],
      "source": [
        "precio = 24\n",
        "item = \"banano\"\n",
        "print(\"El %s cuesta %d centavos\"%(item,precio))\n",
        "print(\"El %+10s cuesta %5.2f centavos\"%(item,precio))\n",
        "print(\"El %+10s cuesta %10.2f centavos\"%(item,precio))"
      ]
    },
    {
      "cell_type": "code",
      "execution_count": null,
      "metadata": {
        "id": "HgndrQIbdLjb"
      },
      "outputs": [],
      "source": [
        "# usando un diccionario de datos\n",
        "\n",
        "diccitem = {\"item\":\"banano\",\"costo\":24}\n",
        "print(\"El %(item)s cuesta %(costo)7.1f centavos\"%diccitem)"
      ]
    },
    {
      "cell_type": "markdown",
      "metadata": {
        "id": "q9sny93hdLjb"
      },
      "source": [
        "#### Asignación múltiple de variables"
      ]
    },
    {
      "cell_type": "code",
      "execution_count": null,
      "metadata": {
        "id": "Rc7BBfhPdLjb"
      },
      "outputs": [],
      "source": [
        "# impresión de datos de diferentes tipos\n",
        "a='string'\n",
        "b=15\n",
        "c=True"
      ]
    },
    {
      "cell_type": "code",
      "execution_count": null,
      "metadata": {
        "id": "RXVeFXzxdLjb"
      },
      "outputs": [],
      "source": [
        "print(a)\n",
        "print(b)\n",
        "print(c)"
      ]
    },
    {
      "cell_type": "code",
      "execution_count": null,
      "metadata": {
        "id": "TSlWeSZBdLjb"
      },
      "outputs": [],
      "source": [
        "a, b, c = 'string', 15, True\n",
        "print(a, b, c)"
      ]
    },
    {
      "cell_type": "markdown",
      "metadata": {
        "id": "K1WMawctdLjb"
      },
      "source": [
        "### Ingreso de datos: input"
      ]
    },
    {
      "cell_type": "code",
      "execution_count": null,
      "metadata": {
        "id": "dxDqXxDFHYDr"
      },
      "outputs": [],
      "source": [
        "#Solicitar datos desde la pantalla (siempre se almacena siempre como un string)\n",
        "\n",
        "nombre = input()"
      ]
    },
    {
      "cell_type": "code",
      "execution_count": null,
      "metadata": {
        "id": "5syXIGS-dLjc"
      },
      "outputs": [],
      "source": [
        "print(nombre)"
      ]
    },
    {
      "cell_type": "code",
      "execution_count": null,
      "metadata": {
        "id": "j_zJo4MHdLjc"
      },
      "outputs": [],
      "source": [
        "type(nombre)"
      ]
    },
    {
      "cell_type": "code",
      "execution_count": null,
      "metadata": {
        "id": "dMfJia52dLjc"
      },
      "outputs": [],
      "source": [
        "# podemos agregarle un mensaje a la hora de ingresar datos\n",
        "\n",
        "nombre = input(\"Por favor ingrese su nombre \")"
      ]
    },
    {
      "cell_type": "code",
      "execution_count": null,
      "metadata": {
        "id": "IeERCxZKdLjc"
      },
      "outputs": [],
      "source": [
        "numero = int(input(\"Ingrese un número \"))"
      ]
    },
    {
      "cell_type": "code",
      "execution_count": null,
      "metadata": {
        "id": "trdDtDIbdLjc"
      },
      "outputs": [],
      "source": [
        "print(numero)"
      ]
    },
    {
      "cell_type": "code",
      "execution_count": null,
      "metadata": {
        "id": "GDz3ZRlodLjc"
      },
      "outputs": [],
      "source": [
        "type(numero)"
      ]
    },
    {
      "cell_type": "code",
      "execution_count": null,
      "metadata": {
        "id": "DlxPgC_VdLjc"
      },
      "outputs": [],
      "source": [
        "numero = int(input(\"Ingrese un número \"))"
      ]
    },
    {
      "cell_type": "code",
      "execution_count": null,
      "metadata": {
        "id": "7USqa7jjIVMf"
      },
      "outputs": [],
      "source": [
        "#Eliminar una variable\n",
        "\n",
        "del nombre"
      ]
    },
    {
      "cell_type": "code",
      "execution_count": null,
      "metadata": {
        "id": "0rhMz8CTdLjc"
      },
      "outputs": [],
      "source": [
        "print(nombre)"
      ]
    },
    {
      "cell_type": "markdown",
      "metadata": {
        "id": "X7HJd_z_dLjc"
      },
      "source": [
        "#### Ejemplos adicionales:"
      ]
    },
    {
      "cell_type": "code",
      "execution_count": null,
      "metadata": {
        "id": "WJli7LhSdLjc"
      },
      "outputs": [],
      "source": [
        "nombre = input(\"¿Cómo se llama?\")\n",
        "print(f\"Me alegro de conocerle, {nombre}\")"
      ]
    },
    {
      "cell_type": "markdown",
      "metadata": {
        "id": "O1yD98pEdLjc"
      },
      "source": [
        "De forma predeterminada, la función input() convierte la entrada en una cadena, aunque escribamos un número. Si intentamos hacer operaciones, se producirá un error."
      ]
    },
    {
      "cell_type": "code",
      "execution_count": null,
      "metadata": {
        "id": "vb2miUzydLjc"
      },
      "outputs": [],
      "source": [
        "cantidad = input(\"Dígame una cantidad en pesetas: \")\n",
        "print(f\"{cantidad} pesetas son {round(cantidad / 166.386, 2)} euros\")\n",
        "\n",
        "# f permite imprimir cadenas formateadas"
      ]
    },
    {
      "cell_type": "markdown",
      "metadata": {
        "id": "YQHUQGS2dLjd"
      },
      "source": [
        "Si se quiere que Python interprete la entrada como un número entero, se debe utilizar la función int() de la siguiente manera:"
      ]
    },
    {
      "cell_type": "code",
      "execution_count": null,
      "metadata": {
        "id": "KkSGDZiBdLjd"
      },
      "outputs": [],
      "source": [
        "cantidad = int(input(\"Dígame una cantidad en pesetas: \"))\n",
        "print(f\"{cantidad} pesetas son {round(cantidad / 166.386, 2)} euros\")"
      ]
    },
    {
      "cell_type": "code",
      "execution_count": null,
      "metadata": {
        "id": "tCUp6E9ndLjd"
      },
      "outputs": [],
      "source": [
        "cantidad = int(input(\"Dígame una cantidad en soles: \"))\n",
        "print(f\"{cantidad} soles son {round(cantidad / 4.10, 2)} dolares\")"
      ]
    },
    {
      "cell_type": "markdown",
      "metadata": {
        "id": "_5E9yqXldLjd"
      },
      "source": [
        "De la misma manera, para que Python interprete la entrada como un número decimal, se debe utilizar la función float() de la siguiente manera:"
      ]
    },
    {
      "cell_type": "code",
      "execution_count": null,
      "metadata": {
        "id": "O1Iw5DfadLjd"
      },
      "outputs": [],
      "source": [
        "cantidad = float(input(\"Dígame una cantidad en euros (hasta con 2 decimales): \"))\n",
        "print(f\"{cantidad} euros son {round(cantidad * 166.386)} pesetas\")"
      ]
    },
    {
      "cell_type": "markdown",
      "metadata": {
        "id": "ZCeLPIZHdLjd"
      },
      "source": [
        "La función input() sólo puede tener un argumento:"
      ]
    },
    {
      "cell_type": "code",
      "execution_count": null,
      "metadata": {
        "id": "zmVb0yoOdLjd"
      },
      "outputs": [],
      "source": [
        "nombre = input(\"Dígame su nombre: \")\n",
        "apellido = input(f\"Dígame su apellido, {nombre}: \")\n",
        "print(f\"Me alegro de conocerle, {nombre} {apellido}.\")"
      ]
    },
    {
      "cell_type": "code",
      "execution_count": null,
      "metadata": {
        "id": "pet9mfsCdLjd"
      },
      "outputs": [],
      "source": [
        "numero1 = int(input(\"Dígame un número: \"))\n",
        "numero2 = int(input(f\"Dígame un número mayor que {numero1}: \"))\n",
        "print(f\"La diferencia entre ellos es {numero2 - numero1}.\")"
      ]
    },
    {
      "cell_type": "markdown",
      "metadata": {
        "id": "fH5VFoIGNm1Y"
      },
      "source": [
        "## Importación de librerías"
      ]
    },
    {
      "cell_type": "code",
      "execution_count": null,
      "metadata": {
        "id": "mhUNmByjFn8p"
      },
      "outputs": [],
      "source": [
        "#importar toda la librería con sus funciones\n",
        "import numpy as np"
      ]
    },
    {
      "cell_type": "code",
      "execution_count": null,
      "metadata": {
        "id": "bOUoRiT5dLjd"
      },
      "outputs": [],
      "source": [
        "#sólo importar la(s) funcion(es) que se seleccionen de una determinada libería\n",
        "from numpy import sqrt as raiz"
      ]
    },
    {
      "cell_type": "code",
      "execution_count": null,
      "metadata": {
        "id": "QxQuo7UGOAGe"
      },
      "outputs": [],
      "source": [
        "#Llamando a la función log que se encuentra en numpy (alias np)\n",
        "np.log(47)"
      ]
    },
    {
      "cell_type": "code",
      "execution_count": null,
      "metadata": {
        "id": "_91o2DdDOad4"
      },
      "outputs": [],
      "source": [
        "#Llamando a la función sqrt con el alias de raiz (declarado en la importación de librerías)\n",
        "raiz(100)"
      ]
    },
    {
      "cell_type": "code",
      "execution_count": null,
      "metadata": {
        "id": "nLU2rQA1dLjg"
      },
      "outputs": [],
      "source": [
        "np.sqrt(100)"
      ]
    },
    {
      "cell_type": "code",
      "execution_count": null,
      "metadata": {
        "id": "06DNwMCtdLjg"
      },
      "outputs": [],
      "source": [
        "# asignación de una función a una variable (renombrar una función)\n",
        "a = np.sqrt"
      ]
    },
    {
      "cell_type": "code",
      "execution_count": null,
      "metadata": {
        "id": "iorOkXZZdLjh"
      },
      "outputs": [],
      "source": [
        "a(100)"
      ]
    },
    {
      "cell_type": "code",
      "execution_count": null,
      "metadata": {
        "id": "HJE-PB0MdLjh"
      },
      "outputs": [],
      "source": [
        "# instalación de una librería en jupyther notebook\n",
        "!pip install pydataset"
      ]
    }
  ],
  "metadata": {
    "colab": {
      "collapsed_sections": [
        "cKKJMN37Ettq",
        "fH5VFoIGNm1Y",
        "MffM1qeQPtqV",
        "jjUhPKW0UICg",
        "TxYDSkblYp6c"
      ],
      "provenance": [],
      "include_colab_link": true
    },
    "kernelspec": {
      "display_name": "Python 3 (ipykernel)",
      "language": "python",
      "name": "python3"
    },
    "language_info": {
      "codemirror_mode": {
        "name": "ipython",
        "version": 3
      },
      "file_extension": ".py",
      "mimetype": "text/x-python",
      "name": "python",
      "nbconvert_exporter": "python",
      "pygments_lexer": "ipython3",
      "version": "3.11.4"
    }
  },
  "nbformat": 4,
  "nbformat_minor": 0
}